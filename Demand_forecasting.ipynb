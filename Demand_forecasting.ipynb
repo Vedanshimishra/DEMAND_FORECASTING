{
  "nbformat": 4,
  "nbformat_minor": 0,
  "metadata": {
    "colab": {
      "provenance": []
    },
    "kernelspec": {
      "name": "python3",
      "display_name": "Python 3"
    },
    "language_info": {
      "name": "python"
    }
  },
  "cells": [
    {
      "cell_type": "code",
      "source": [
        "import numpy as np # linear algebra\n",
        "import pandas as pd # data processing, CSV file I/O (e.g. pd.read_csv)\n",
        "\n",
        "import os\n",
        "for dirname, _, filenames in os.walk('/kaggle/input'):\n",
        "    for filename in filenames:\n",
        "        print(os.path.join(dirname, filename))"
      ],
      "metadata": {
        "id": "Mv01Bon45Hxl"
      },
      "execution_count": null,
      "outputs": []
    },
    {
      "cell_type": "code",
      "source": [
        "import pandas as pd\n",
        "import matplotlib.pyplot as plt\n",
        "import numpy as np\n",
        "import seaborn as sns\n",
        "from mpl_toolkits.mplot3d import Axes3D"
      ],
      "metadata": {
        "id": "aETlLBBm5j8o"
      },
      "execution_count": null,
      "outputs": []
    },
    {
      "cell_type": "code",
      "source": [],
      "metadata": {
        "id": "-gtRZYhh2H_2"
      },
      "execution_count": null,
      "outputs": []
    },
    {
      "cell_type": "code",
      "source": [
        "center_info = pd.read_csv('/content/centre_info.csv')\n",
        "meal_info = pd.read_csv('/content/food_info.csv')\n",
        "test_data = pd.read_csv('/content/test.csv')\n",
        "train_data = pd.read_csv('/content/train.csv')"
      ],
      "metadata": {
        "id": "7DLliftK5pii",
        "colab": {
          "base_uri": "https://localhost:8080/",
          "height": 339
        },
        "outputId": "a03222ca-26df-4d76-86de-02c13382bef0"
      },
      "execution_count": null,
      "outputs": [
        {
          "output_type": "error",
          "ename": "FileNotFoundError",
          "evalue": "[Errno 2] No such file or directory: '/content/centre_info.csv'",
          "traceback": [
            "\u001b[0;31m---------------------------------------------------------------------------\u001b[0m",
            "\u001b[0;31mFileNotFoundError\u001b[0m                         Traceback (most recent call last)",
            "\u001b[0;32m<ipython-input-3-18cef91ffcaa>\u001b[0m in \u001b[0;36m<cell line: 1>\u001b[0;34m()\u001b[0m\n\u001b[0;32m----> 1\u001b[0;31m \u001b[0mcenter_info\u001b[0m \u001b[0;34m=\u001b[0m \u001b[0mpd\u001b[0m\u001b[0;34m.\u001b[0m\u001b[0mread_csv\u001b[0m\u001b[0;34m(\u001b[0m\u001b[0;34m'/content/centre_info.csv'\u001b[0m\u001b[0;34m)\u001b[0m\u001b[0;34m\u001b[0m\u001b[0;34m\u001b[0m\u001b[0m\n\u001b[0m\u001b[1;32m      2\u001b[0m \u001b[0mmeal_info\u001b[0m \u001b[0;34m=\u001b[0m \u001b[0mpd\u001b[0m\u001b[0;34m.\u001b[0m\u001b[0mread_csv\u001b[0m\u001b[0;34m(\u001b[0m\u001b[0;34m'/content/food_info.csv'\u001b[0m\u001b[0;34m)\u001b[0m\u001b[0;34m\u001b[0m\u001b[0;34m\u001b[0m\u001b[0m\n\u001b[1;32m      3\u001b[0m \u001b[0mtest_data\u001b[0m \u001b[0;34m=\u001b[0m \u001b[0mpd\u001b[0m\u001b[0;34m.\u001b[0m\u001b[0mread_csv\u001b[0m\u001b[0;34m(\u001b[0m\u001b[0;34m'/content/test.csv'\u001b[0m\u001b[0;34m)\u001b[0m\u001b[0;34m\u001b[0m\u001b[0;34m\u001b[0m\u001b[0m\n\u001b[1;32m      4\u001b[0m \u001b[0mtrain_data\u001b[0m \u001b[0;34m=\u001b[0m \u001b[0mpd\u001b[0m\u001b[0;34m.\u001b[0m\u001b[0mread_csv\u001b[0m\u001b[0;34m(\u001b[0m\u001b[0;34m'/content/train.csv'\u001b[0m\u001b[0;34m)\u001b[0m\u001b[0;34m\u001b[0m\u001b[0;34m\u001b[0m\u001b[0m\n",
            "\u001b[0;32m/usr/local/lib/python3.10/dist-packages/pandas/io/parsers/readers.py\u001b[0m in \u001b[0;36mread_csv\u001b[0;34m(filepath_or_buffer, sep, delimiter, header, names, index_col, usecols, dtype, engine, converters, true_values, false_values, skipinitialspace, skiprows, skipfooter, nrows, na_values, keep_default_na, na_filter, verbose, skip_blank_lines, parse_dates, infer_datetime_format, keep_date_col, date_parser, date_format, dayfirst, cache_dates, iterator, chunksize, compression, thousands, decimal, lineterminator, quotechar, quoting, doublequote, escapechar, comment, encoding, encoding_errors, dialect, on_bad_lines, delim_whitespace, low_memory, memory_map, float_precision, storage_options, dtype_backend)\u001b[0m\n\u001b[1;32m   1024\u001b[0m     \u001b[0mkwds\u001b[0m\u001b[0;34m.\u001b[0m\u001b[0mupdate\u001b[0m\u001b[0;34m(\u001b[0m\u001b[0mkwds_defaults\u001b[0m\u001b[0;34m)\u001b[0m\u001b[0;34m\u001b[0m\u001b[0;34m\u001b[0m\u001b[0m\n\u001b[1;32m   1025\u001b[0m \u001b[0;34m\u001b[0m\u001b[0m\n\u001b[0;32m-> 1026\u001b[0;31m     \u001b[0;32mreturn\u001b[0m \u001b[0m_read\u001b[0m\u001b[0;34m(\u001b[0m\u001b[0mfilepath_or_buffer\u001b[0m\u001b[0;34m,\u001b[0m \u001b[0mkwds\u001b[0m\u001b[0;34m)\u001b[0m\u001b[0;34m\u001b[0m\u001b[0;34m\u001b[0m\u001b[0m\n\u001b[0m\u001b[1;32m   1027\u001b[0m \u001b[0;34m\u001b[0m\u001b[0m\n\u001b[1;32m   1028\u001b[0m \u001b[0;34m\u001b[0m\u001b[0m\n",
            "\u001b[0;32m/usr/local/lib/python3.10/dist-packages/pandas/io/parsers/readers.py\u001b[0m in \u001b[0;36m_read\u001b[0;34m(filepath_or_buffer, kwds)\u001b[0m\n\u001b[1;32m    618\u001b[0m \u001b[0;34m\u001b[0m\u001b[0m\n\u001b[1;32m    619\u001b[0m     \u001b[0;31m# Create the parser.\u001b[0m\u001b[0;34m\u001b[0m\u001b[0;34m\u001b[0m\u001b[0m\n\u001b[0;32m--> 620\u001b[0;31m     \u001b[0mparser\u001b[0m \u001b[0;34m=\u001b[0m \u001b[0mTextFileReader\u001b[0m\u001b[0;34m(\u001b[0m\u001b[0mfilepath_or_buffer\u001b[0m\u001b[0;34m,\u001b[0m \u001b[0;34m**\u001b[0m\u001b[0mkwds\u001b[0m\u001b[0;34m)\u001b[0m\u001b[0;34m\u001b[0m\u001b[0;34m\u001b[0m\u001b[0m\n\u001b[0m\u001b[1;32m    621\u001b[0m \u001b[0;34m\u001b[0m\u001b[0m\n\u001b[1;32m    622\u001b[0m     \u001b[0;32mif\u001b[0m \u001b[0mchunksize\u001b[0m \u001b[0;32mor\u001b[0m \u001b[0miterator\u001b[0m\u001b[0;34m:\u001b[0m\u001b[0;34m\u001b[0m\u001b[0;34m\u001b[0m\u001b[0m\n",
            "\u001b[0;32m/usr/local/lib/python3.10/dist-packages/pandas/io/parsers/readers.py\u001b[0m in \u001b[0;36m__init__\u001b[0;34m(self, f, engine, **kwds)\u001b[0m\n\u001b[1;32m   1618\u001b[0m \u001b[0;34m\u001b[0m\u001b[0m\n\u001b[1;32m   1619\u001b[0m         \u001b[0mself\u001b[0m\u001b[0;34m.\u001b[0m\u001b[0mhandles\u001b[0m\u001b[0;34m:\u001b[0m \u001b[0mIOHandles\u001b[0m \u001b[0;34m|\u001b[0m \u001b[0;32mNone\u001b[0m \u001b[0;34m=\u001b[0m \u001b[0;32mNone\u001b[0m\u001b[0;34m\u001b[0m\u001b[0;34m\u001b[0m\u001b[0m\n\u001b[0;32m-> 1620\u001b[0;31m         \u001b[0mself\u001b[0m\u001b[0;34m.\u001b[0m\u001b[0m_engine\u001b[0m \u001b[0;34m=\u001b[0m \u001b[0mself\u001b[0m\u001b[0;34m.\u001b[0m\u001b[0m_make_engine\u001b[0m\u001b[0;34m(\u001b[0m\u001b[0mf\u001b[0m\u001b[0;34m,\u001b[0m \u001b[0mself\u001b[0m\u001b[0;34m.\u001b[0m\u001b[0mengine\u001b[0m\u001b[0;34m)\u001b[0m\u001b[0;34m\u001b[0m\u001b[0;34m\u001b[0m\u001b[0m\n\u001b[0m\u001b[1;32m   1621\u001b[0m \u001b[0;34m\u001b[0m\u001b[0m\n\u001b[1;32m   1622\u001b[0m     \u001b[0;32mdef\u001b[0m \u001b[0mclose\u001b[0m\u001b[0;34m(\u001b[0m\u001b[0mself\u001b[0m\u001b[0;34m)\u001b[0m \u001b[0;34m->\u001b[0m \u001b[0;32mNone\u001b[0m\u001b[0;34m:\u001b[0m\u001b[0;34m\u001b[0m\u001b[0;34m\u001b[0m\u001b[0m\n",
            "\u001b[0;32m/usr/local/lib/python3.10/dist-packages/pandas/io/parsers/readers.py\u001b[0m in \u001b[0;36m_make_engine\u001b[0;34m(self, f, engine)\u001b[0m\n\u001b[1;32m   1878\u001b[0m                 \u001b[0;32mif\u001b[0m \u001b[0;34m\"b\"\u001b[0m \u001b[0;32mnot\u001b[0m \u001b[0;32min\u001b[0m \u001b[0mmode\u001b[0m\u001b[0;34m:\u001b[0m\u001b[0;34m\u001b[0m\u001b[0;34m\u001b[0m\u001b[0m\n\u001b[1;32m   1879\u001b[0m                     \u001b[0mmode\u001b[0m \u001b[0;34m+=\u001b[0m \u001b[0;34m\"b\"\u001b[0m\u001b[0;34m\u001b[0m\u001b[0;34m\u001b[0m\u001b[0m\n\u001b[0;32m-> 1880\u001b[0;31m             self.handles = get_handle(\n\u001b[0m\u001b[1;32m   1881\u001b[0m                 \u001b[0mf\u001b[0m\u001b[0;34m,\u001b[0m\u001b[0;34m\u001b[0m\u001b[0;34m\u001b[0m\u001b[0m\n\u001b[1;32m   1882\u001b[0m                 \u001b[0mmode\u001b[0m\u001b[0;34m,\u001b[0m\u001b[0;34m\u001b[0m\u001b[0;34m\u001b[0m\u001b[0m\n",
            "\u001b[0;32m/usr/local/lib/python3.10/dist-packages/pandas/io/common.py\u001b[0m in \u001b[0;36mget_handle\u001b[0;34m(path_or_buf, mode, encoding, compression, memory_map, is_text, errors, storage_options)\u001b[0m\n\u001b[1;32m    871\u001b[0m         \u001b[0;32mif\u001b[0m \u001b[0mioargs\u001b[0m\u001b[0;34m.\u001b[0m\u001b[0mencoding\u001b[0m \u001b[0;32mand\u001b[0m \u001b[0;34m\"b\"\u001b[0m \u001b[0;32mnot\u001b[0m \u001b[0;32min\u001b[0m \u001b[0mioargs\u001b[0m\u001b[0;34m.\u001b[0m\u001b[0mmode\u001b[0m\u001b[0;34m:\u001b[0m\u001b[0;34m\u001b[0m\u001b[0;34m\u001b[0m\u001b[0m\n\u001b[1;32m    872\u001b[0m             \u001b[0;31m# Encoding\u001b[0m\u001b[0;34m\u001b[0m\u001b[0;34m\u001b[0m\u001b[0m\n\u001b[0;32m--> 873\u001b[0;31m             handle = open(\n\u001b[0m\u001b[1;32m    874\u001b[0m                 \u001b[0mhandle\u001b[0m\u001b[0;34m,\u001b[0m\u001b[0;34m\u001b[0m\u001b[0;34m\u001b[0m\u001b[0m\n\u001b[1;32m    875\u001b[0m                 \u001b[0mioargs\u001b[0m\u001b[0;34m.\u001b[0m\u001b[0mmode\u001b[0m\u001b[0;34m,\u001b[0m\u001b[0;34m\u001b[0m\u001b[0;34m\u001b[0m\u001b[0m\n",
            "\u001b[0;31mFileNotFoundError\u001b[0m: [Errno 2] No such file or directory: '/content/centre_info.csv'"
          ]
        }
      ]
    },
    {
      "cell_type": "code",
      "source": [
        "from google.colab import drive\n",
        "drive.mount('/content/drive')"
      ],
      "metadata": {
        "id": "lrQ4sggyUZcv"
      },
      "execution_count": null,
      "outputs": []
    },
    {
      "cell_type": "code",
      "source": [
        "test_data\n"
      ],
      "metadata": {
        "id": "bvTypGXZ8Qu3"
      },
      "execution_count": null,
      "outputs": []
    },
    {
      "cell_type": "code",
      "source": [
        "meal_info"
      ],
      "metadata": {
        "id": "Akf17ChC-Q1N"
      },
      "execution_count": null,
      "outputs": []
    },
    {
      "cell_type": "code",
      "source": [
        "merge1 = pd.merge(train_data, center_info, how='inner', on='center_id')\n",
        "df = pd.merge(merge1, meal_info, how='inner', on='meal_id')\n",
        "# df.describe()\n",
        "df"
      ],
      "metadata": {
        "id": "XSWR4z9w-X1B"
      },
      "execution_count": null,
      "outputs": []
    },
    {
      "cell_type": "code",
      "source": [
        "df = df.sort_values(by=['week'])\n",
        "for i in df.columns:\n",
        "    print(i)\n",
        "    print('Unique Values: '+str(len(df.groupby([i]).count())))\n",
        "    print(df[i].value_counts())"
      ],
      "metadata": {
        "id": "Dw_xGJ16-zdK"
      },
      "execution_count": null,
      "outputs": []
    },
    {
      "cell_type": "code",
      "source": [
        "num_cols=['center_id',\n",
        " 'meal_id',\n",
        " 'checkout_price',\n",
        " 'base_price',\n",
        " 'emailer_for_promotion',\n",
        " 'homepage_featured',\n",
        " 'num_orders',\n",
        " 'city_code',\n",
        " 'region_code',\n",
        " 'op_area']"
      ],
      "metadata": {
        "id": "JlKB2Ork_HDr"
      },
      "execution_count": null,
      "outputs": []
    },
    {
      "cell_type": "code",
      "source": [
        "colors=['#b84949', '#ff6f00', '#ffbb00', '#9dff00', '#329906', '#439c55', '#67c79e', '#00a1db', '#002254', '#5313c2', '#c40fdb', '#e354aa']"
      ],
      "metadata": {
        "id": "hinrjnte_NWs"
      },
      "execution_count": null,
      "outputs": []
    },
    {
      "cell_type": "code",
      "source": [
        "ts_tot_orders = df.groupby(['week'])['num_orders'].sum()\n",
        "ts_tot_orders = pd.DataFrame(ts_tot_orders)\n",
        "ts_tot_orders"
      ],
      "metadata": {
        "id": "2NH6ta0u_PHi"
      },
      "execution_count": null,
      "outputs": []
    },
    {
      "cell_type": "code",
      "source": [
        "import plotly.graph_objs as go\n",
        "import plotly.offline as pyoff\n",
        "plot_data = [\n",
        "    go.Scatter(\n",
        "        x=ts_tot_orders.index,\n",
        "        y=ts_tot_orders['num_orders'],\n",
        "        name='Time Series for num_orders',\n",
        "        marker = dict(color = 'Blue')\n",
        "    )\n",
        "]\n",
        "plot_layout = go.Layout(\n",
        "        title='Total orders per week',\n",
        "        yaxis_title='Total orders',\n",
        "        xaxis_title='Week',\n",
        "        plot_bgcolor='rgba(0,0,0,0)'\n",
        "    )\n",
        "fig = go.Figure(data=plot_data, layout=plot_layout)\n",
        "pyoff.iplot(fig)"
      ],
      "metadata": {
        "id": "80bSTi1N_Y9P"
      },
      "execution_count": null,
      "outputs": []
    },
    {
      "cell_type": "code",
      "source": [
        "center_id = df.groupby(['center_id'])['num_orders'].sum()\n",
        "center_id = pd.DataFrame(center_id)"
      ],
      "metadata": {
        "id": "MWf1oqjo_fUk"
      },
      "execution_count": null,
      "outputs": []
    },
    {
      "cell_type": "code",
      "source": [
        "center_id=center_id.reset_index()\n"
      ],
      "metadata": {
        "id": "hN1CYMCa_hvw"
      },
      "execution_count": null,
      "outputs": []
    },
    {
      "cell_type": "code",
      "source": [
        "import plotly.express as px\n",
        "fig = px.bar(center_id, x=\"center_id\", y=\"num_orders\", color='center_id')\n",
        "fig.update_layout({\n",
        "'plot_bgcolor': 'rgba(0, 0, 0, 0)',\n",
        "'paper_bgcolor': 'rgba(0, 0, 0, 0)',\n",
        "})\n",
        "\n",
        "fig.show()"
      ],
      "metadata": {
        "id": "jCkL8_oI_rYF"
      },
      "execution_count": null,
      "outputs": []
    },
    {
      "cell_type": "code",
      "source": [
        "meal_id = df.groupby(['meal_id'])['num_orders'].sum()\n",
        "meal_id = pd.DataFrame(meal_id)\n",
        "meal_id=meal_id.reset_index()\n"
      ],
      "metadata": {
        "id": "8FlNoPV2_vRX"
      },
      "execution_count": null,
      "outputs": []
    },
    {
      "cell_type": "code",
      "source": [
        "import plotly.express as px\n",
        "fig = px.bar(meal_id, x=\"meal_id\", y=\"num_orders\")\n",
        "fig.update_layout({\n",
        "'plot_bgcolor': 'rgba(1, 1, 1, 1)',\n",
        "'paper_bgcolor': 'rgba(1, 1, 1, 1)',\n",
        "})\n",
        "\n",
        "fig.show()"
      ],
      "metadata": {
        "id": "mIhrZIZ__1ub"
      },
      "execution_count": null,
      "outputs": []
    },
    {
      "cell_type": "code",
      "source": [
        "cat_var = ['center_type',\n",
        " 'category',\n",
        " 'cuisine']"
      ],
      "metadata": {
        "id": "IDidpeceACi1"
      },
      "execution_count": null,
      "outputs": []
    },
    {
      "cell_type": "code",
      "source": [
        "center_type = df.groupby(['center_type'])['num_orders'].sum()\n",
        "center_type = pd.DataFrame(center_type)"
      ],
      "metadata": {
        "id": "bOWU6Cm2AIUE"
      },
      "execution_count": null,
      "outputs": []
    },
    {
      "cell_type": "code",
      "source": [
        "center_type\n"
      ],
      "metadata": {
        "id": "GOKcrbCTAII6"
      },
      "execution_count": null,
      "outputs": []
    },
    {
      "cell_type": "code",
      "source": [
        "center_type=center_type.reset_index()\n"
      ],
      "metadata": {
        "id": "b9bSTZy2FdpH"
      },
      "execution_count": null,
      "outputs": []
    },
    {
      "cell_type": "code",
      "source": [
        "import plotly.express as px\n",
        "fig = px.bar(center_type, x=\"center_type\", y=\"num_orders\", color='center_type')\n",
        "fig.update_layout({\n",
        "'plot_bgcolor': 'rgba(1, 1, 1, 1)',\n",
        "'paper_bgcolor': 'rgba(0,0,0,0)',\n",
        "})\n",
        "\n",
        "fig.show()"
      ],
      "metadata": {
        "id": "ji-lOZWTFfKZ"
      },
      "execution_count": null,
      "outputs": []
    },
    {
      "cell_type": "code",
      "source": [
        "category = df.groupby(['category'])['num_orders'].sum()\n",
        "category = pd.DataFrame(category)"
      ],
      "metadata": {
        "id": "5L0cwazJFkIE"
      },
      "execution_count": null,
      "outputs": []
    },
    {
      "cell_type": "code",
      "source": [
        "category = category.reset_index()\n"
      ],
      "metadata": {
        "id": "yBtKRwtaFnrH"
      },
      "execution_count": null,
      "outputs": []
    },
    {
      "cell_type": "code",
      "source": [
        "import plotly.express as px\n",
        "fig = px.bar(category, x=\"category\", y=\"num_orders\", color='category')\n",
        "fig.update_layout({\n",
        "'plot_bgcolor': 'rgba(1, 1, 1, 1)',\n",
        "'paper_bgcolor': 'rgba(0,0,0,0)',\n",
        "})\n",
        "fig.show()"
      ],
      "metadata": {
        "id": "WAAEEqPWFtSp"
      },
      "execution_count": null,
      "outputs": []
    },
    {
      "cell_type": "code",
      "source": [
        "cuisine = df.groupby(['cuisine'])['num_orders'].sum()\n",
        "cuisine = pd.DataFrame(cuisine)\n",
        "cuisine = cuisine.reset_index()\n",
        "import plotly.express as px\n",
        "fig = px.bar(cuisine, x=\"cuisine\", y=\"num_orders\", color='cuisine')\n",
        "fig.update_layout({\n",
        "'plot_bgcolor': 'rgba(1, 1, 1, 1)',\n",
        "'paper_bgcolor': 'rgba(0,0,0,0)',\n",
        "})\n",
        "fig.show()"
      ],
      "metadata": {
        "id": "zLnrtva6FxwT"
      },
      "execution_count": null,
      "outputs": []
    },
    {
      "cell_type": "code",
      "source": [
        "cat_ct=df.groupby(['category', 'center_type'])['num_orders'].sum()\n",
        "cat_ct = cat_ct.unstack().fillna(0)\n",
        "cat_ct"
      ],
      "metadata": {
        "id": "dzySwdJfGPAO"
      },
      "execution_count": null,
      "outputs": []
    },
    {
      "cell_type": "code",
      "source": [
        "# Visualize this data in bar plot\n",
        "ax = (cat_ct).plot(\n",
        "kind='bar',\n",
        "figsize=(10, 7),\n",
        "grid=True\n",
        ")\n",
        "ax.set_ylabel('Count')\n",
        "plt.show()"
      ],
      "metadata": {
        "id": "FyNFUpF5Gwek"
      },
      "execution_count": null,
      "outputs": []
    },
    {
      "cell_type": "code",
      "source": [
        "cat_cu=df.groupby(['category', 'cuisine'])['num_orders'].sum()\n",
        "cat_cu = cat_cu.unstack().fillna(0)\n",
        "cat_cu"
      ],
      "metadata": {
        "id": "PWq4e1nKG0N1"
      },
      "execution_count": null,
      "outputs": []
    },
    {
      "cell_type": "code",
      "source": [
        "# Visualize this data in bar plot\n",
        "ax = (cat_cu).plot(\n",
        "kind='bar',\n",
        "figsize=(10, 7),\n",
        "grid=True\n",
        ")\n",
        "ax.set_ylabel('Count')\n",
        "plt.show()"
      ],
      "metadata": {
        "id": "1VTrSNDCG5Ka"
      },
      "execution_count": null,
      "outputs": []
    },
    {
      "cell_type": "code",
      "source": [
        "x = df['num_orders']\n",
        "y = df['base_price']\n",
        "\n",
        "plt.scatter(x, y)\n",
        "plt.show()"
      ],
      "metadata": {
        "id": "xRKJLQecHCJc"
      },
      "execution_count": null,
      "outputs": []
    },
    {
      "cell_type": "code",
      "source": [],
      "metadata": {
        "id": "VxpjJLhnlFyb"
      },
      "execution_count": null,
      "outputs": []
    },
    {
      "cell_type": "code",
      "source": [
        "x = df['num_orders']\n",
        "y = df['emailer_for_promotion']\n",
        "\n",
        "plt.scatter(x, y)\n",
        "plt.show()"
      ],
      "metadata": {
        "id": "UOCgQeaVHHCi"
      },
      "execution_count": null,
      "outputs": []
    },
    {
      "cell_type": "code",
      "source": [
        "x = df['num_orders']\n",
        "y = df['homepage_featured']\n",
        "\n",
        "plt.scatter(x, y)\n",
        "plt.show()"
      ],
      "metadata": {
        "id": "p4Hd2WhfHKU1"
      },
      "execution_count": null,
      "outputs": []
    },
    {
      "cell_type": "code",
      "source": [
        "df_=df.copy()\n",
        "for i in cat_var:\n",
        "    df_[i] = pd.factorize(df_[i])[0]"
      ],
      "metadata": {
        "id": "coTIeVExHNNm"
      },
      "execution_count": null,
      "outputs": []
    },
    {
      "cell_type": "code",
      "source": [
        "import seaborn as seabornInstance\n",
        "from sklearn.model_selection import train_test_split\n",
        "from sklearn.linear_model import LinearRegression\n",
        "from sklearn.linear_model import Ridge\n",
        "from sklearn.linear_model import Lasso\n",
        "from sklearn.linear_model import ElasticNet\n",
        "from sklearn.neighbors import KNeighborsRegressor\n",
        "from sklearn.tree import DecisionTreeRegressor\n",
        "from sklearn.svm import SVR\n",
        "from sklearn import metrics\n",
        "%matplotlib inline"
      ],
      "metadata": {
        "id": "8gPfvfZOHU0x"
      },
      "execution_count": null,
      "outputs": []
    },
    {
      "cell_type": "code",
      "source": [
        "X = df_.drop(['num_orders'], axis=1).values\n",
        "y = df_['num_orders'].values\n",
        "X_train, X_test, y_train, y_test = train_test_split(X, y, test_size=0.2, random_state=0)\n",
        "lr = LinearRegression()\n",
        "lr.fit(X_train, y_train)\n",
        "y_pred = lr.predict(X_test)\n",
        "print('Root Mean Squared Error for LinearRegression:', np.sqrt(metrics.mean_squared_error(y_test, y_pred)))"
      ],
      "metadata": {
        "id": "CQk30m5eHZA5"
      },
      "execution_count": null,
      "outputs": []
    },
    {
      "cell_type": "code",
      "source": [
        "#Trying to plot them all at once\n",
        "from matplotlib import pyplot\n",
        "pyplot.figure(figsize=(17, 8))\n",
        "pyplot.plot(y_test, label=\"actual\")\n",
        "pyplot.plot(y_pred, color='green', label=\"predicted\")\n",
        "pyplot.legend(loc='best')\n",
        "#pyplot.plot(predictions, color='red')\n",
        "pyplot.show()"
      ],
      "metadata": {
        "id": "MI1mvuZtHi3k"
      },
      "execution_count": null,
      "outputs": []
    },
    {
      "cell_type": "code",
      "source": [
        "dt = DecisionTreeRegressor()\n",
        "dt.fit(X_train, y_train)\n",
        "y_pred = dt.predict(X_test)\n",
        "print('Root Mean Squared Error for DecisionTree:', np.sqrt(metrics.mean_squared_error(y_test, y_pred)))"
      ],
      "metadata": {
        "id": "Iraer9ghHnzH"
      },
      "execution_count": null,
      "outputs": []
    },
    {
      "cell_type": "code",
      "source": [
        "#Trying to plot them all at once\n",
        "from matplotlib import pyplot\n",
        "pyplot.figure(figsize=(17, 8))\n",
        "pyplot.plot(y_test, label=\"actual\")\n",
        "pyplot.plot(y_pred, color='green', label=\"predicted\")\n",
        "pyplot.legend(loc='best')\n",
        "pyplot.show()"
      ],
      "metadata": {
        "id": "DDSJehIpHtGT"
      },
      "execution_count": null,
      "outputs": []
    },
    {
      "cell_type": "code",
      "source": [
        "from sklearn.ensemble import RandomForestRegressor\n",
        "y_train\n"
      ],
      "metadata": {
        "id": "E9FXxaTXHwTp"
      },
      "execution_count": null,
      "outputs": []
    },
    {
      "cell_type": "code",
      "source": [
        "regressor = RandomForestRegressor(n_estimators = 100, random_state = 0)\n"
      ],
      "metadata": {
        "id": "_7teN_WIIVqS"
      },
      "execution_count": null,
      "outputs": []
    },
    {
      "cell_type": "code",
      "source": [
        "regressor.fit(X_train, y_train)\n"
      ],
      "metadata": {
        "id": "HNg6K7_gIYo5"
      },
      "execution_count": null,
      "outputs": []
    },
    {
      "cell_type": "code",
      "source": [
        "print('Root Mean Squared Error for rf:', np.sqrt(metrics.mean_squared_error(y_test, y_pred)))\n"
      ],
      "metadata": {
        "id": "bF13hyAlJx-c"
      },
      "execution_count": null,
      "outputs": []
    },
    {
      "cell_type": "code",
      "source": [
        "#Trying to plot them all at once\n",
        "from matplotlib import pyplot\n",
        "pyplot.figure(figsize=(17, 8))\n",
        "pyplot.plot(y_test, label=\"actual\")\n",
        "pyplot.plot(y_pred, color='green', label=\"predicted\")\n",
        "pyplot.legend(loc='best')\n",
        "#pyplot.plot(predictions, color='red')\n",
        "pyplot.show()"
      ],
      "metadata": {
        "id": "wJgB-1pCJ2dq"
      },
      "execution_count": null,
      "outputs": []
    },
    {
      "cell_type": "code",
      "source": [
        "import xgboost as xgb\n",
        "from sklearn.metrics import auc, accuracy_score, confusion_matrix, mean_squared_error\n",
        "xgb_model = xgb.XGBRegressor(objective=\"reg:linear\", random_state=42)\n",
        "\n",
        "xgb_model.fit(X_train, y_train)\n",
        "\n",
        "y_pred = xgb_model.predict(X_test)\n",
        "\n",
        "mse=mean_squared_error(y_test, y_pred)\n",
        "\n",
        "print(np.sqrt(mse))"
      ],
      "metadata": {
        "id": "f4Dg5zpdJ5rc"
      },
      "execution_count": null,
      "outputs": []
    },
    {
      "cell_type": "code",
      "source": [
        "#Trying to plot them all at once\n",
        "from matplotlib import pyplot\n",
        "pyplot.figure(figsize=(17, 8))\n",
        "pyplot.plot(y_test, label=\"actual\")\n",
        "pyplot.plot(y_pred, color='green', label=\"predicted\")\n",
        "pyplot.legend(loc='best')\n",
        "#pyplot.plot(predictions, color='red')\n",
        "pyplot.show()"
      ],
      "metadata": {
        "id": "aXnckFKLKCCs"
      },
      "execution_count": null,
      "outputs": []
    },
    {
      "cell_type": "code",
      "source": [
        "xgb.plot_importance(xgb_model)"
      ],
      "metadata": {
        "id": "8KmhqosDKGtm"
      },
      "execution_count": null,
      "outputs": []
    },
    {
      "cell_type": "code",
      "source": [
        "training = df.loc[:, ['id', 'week', 'center_id', 'meal_id', 'checkout_price', 'base_price',\n",
        "       'emailer_for_promotion', 'homepage_featured', 'num_orders']]"
      ],
      "metadata": {
        "id": "iY5rVSm6KKLC"
      },
      "execution_count": null,
      "outputs": []
    },
    {
      "cell_type": "code",
      "source": [
        "X_train = training.drop(['num_orders'], axis=1).values\n",
        "y_train = training['num_orders'].values"
      ],
      "metadata": {
        "id": "YDgVh0a8KQES"
      },
      "execution_count": null,
      "outputs": []
    },
    {
      "cell_type": "code",
      "source": [
        "X_test = test_data.values"
      ],
      "metadata": {
        "id": "Bj3khb32KUbW"
      },
      "execution_count": null,
      "outputs": []
    },
    {
      "cell_type": "code",
      "source": [
        "xgb_model = xgb.XGBRegressor(objective=\"reg:linear\", random_state=42)\n",
        "\n",
        "xgb_model.fit(X_train, y_train)\n",
        "\n",
        "y_pred = xgb_model.predict(X_test)"
      ],
      "metadata": {
        "id": "XrLlkdXMKYaZ"
      },
      "execution_count": null,
      "outputs": []
    },
    {
      "cell_type": "code",
      "source": [
        "ypred = pd.DataFrame(y_pred)\n",
        "predictions = pd.merge(test_data, ypred, left_index=True, right_index=True, how='inner')\n",
        "predictions['num_orders'] = predictions[0]\n",
        "predictions = predictions.drop([0], axis=1)\n",
        "ts_tot_pred = predictions.groupby(['week'])['num_orders'].sum()\n",
        "ts_tot_pred = pd.DataFrame(ts_tot_pred)"
      ],
      "metadata": {
        "id": "bgRHQ68FKcdK"
      },
      "execution_count": null,
      "outputs": []
    },
    {
      "cell_type": "code",
      "source": [
        "import plotly.graph_objs as go\n",
        "import plotly.offline as pyoff\n",
        "plot_data = [\n",
        "    go.Scatter(\n",
        "        x=ts_tot_orders.index,\n",
        "        y=ts_tot_orders['num_orders'],\n",
        "        name='Time Series for num_orders',\n",
        "        marker = dict(color = 'Blue')\n",
        "        #x_axis=\"OTI\",\n",
        "        #y_axis=\"time\",\n",
        "    ),\n",
        "    go.Scatter(\n",
        "        x=ts_tot_pred.index,\n",
        "        y=ts_tot_pred['num_orders'],\n",
        "        name='Predicted',\n",
        "        marker = dict(color = 'Red')\n",
        "        #x_axis=\"OTI\",\n",
        "        #y_axis=\"time\",\n",
        "    )\n",
        "\n",
        "]\n",
        "plot_layout = go.Layout(\n",
        "        title='Total orders per week',\n",
        "        yaxis_title='Total orders',\n",
        "        xaxis_title='Week',\n",
        "        plot_bgcolor='rgba(0,0,0,0)'\n",
        "    )\n",
        "fig = go.Figure(data=plot_data, layout=plot_layout)\n",
        "pyoff.iplot(fig)"
      ],
      "metadata": {
        "id": "aIO2UIJtKsFK"
      },
      "execution_count": null,
      "outputs": []
    }
  ]
}